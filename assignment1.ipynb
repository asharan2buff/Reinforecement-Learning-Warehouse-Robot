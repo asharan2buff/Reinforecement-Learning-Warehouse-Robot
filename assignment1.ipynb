{
 "cells": [
  {
   "cell_type": "code",
   "execution_count": 8,
   "metadata": {},
   "outputs": [],
   "source": [
    "import random\n",
    "from gymnasium import Env, spaces\n",
    "import matplotlib.pyplot as plt\n",
    "from matplotlib.patches import Rectangle"
   ]
  },
  {
   "cell_type": "code",
   "execution_count": 9,
   "metadata": {},
   "outputs": [],
   "source": [
    "class WarehouseRobotEnv(Env):\n",
    "    def __init__(self, deterministic=True):\n",
    "        super().__init__()\n",
    "        \n",
    "        self.grid_size = (6, 6)\n",
    "        self.agent_pos = [0, 0]  \n",
    "        self.package_pos = [0, 1]  # Initial package position\n",
    "        self.dropoff_pos = [0, 4]  # Fixed dropoff point (yellow block)\n",
    "        self.obstacles = [[1, 1], [1, 2], [2, 1]]  # Shelves\n",
    "        self.has_package = False\n",
    "        self.dropped_off = False\n",
    "        self.trail = []  # To store agent's path\n",
    "        self.deterministic = deterministic  # Flag to control stochastic or deterministic behavior\n",
    "        \n",
    "        # Define action space: Up, Down, Left, Right, Pickup, Dropoff\n",
    "        self.action_space = spaces.Discrete(6)\n",
    "        \n",
    "        # Observation space: (agent_pos, has_package)\n",
    "        self.observation_space = spaces.Tuple((\n",
    "            spaces.MultiDiscrete([6, 6]),\n",
    "            spaces.Discrete(2)\n",
    "        ))\n",
    "\n",
    "        # Track cumulative reward\n",
    "        self.cumulative_reward = 0\n",
    "\n",
    "    def reset(self):\n",
    "        self.agent_pos = [0, 0]\n",
    "        self.package_pos = [0, 1]  # Reset package position\n",
    "        self.has_package = False\n",
    "        self.dropped_off = False\n",
    "        self.trail = []  # Reset trail\n",
    "        self.cumulative_reward = 0  # Reset cumulative reward\n",
    "        return self._get_obs(), {}\n",
    "\n",
    "    def step(self, action):\n",
    "        reward = -1  # Default step penalty\n",
    "        terminated = False\n",
    "\n",
    "        # Store the current position in the trail before moving\n",
    "        self.trail.append(tuple(self.agent_pos))\n",
    "\n",
    "        # Movement actions (0-3)\n",
    "        if action < 4:\n",
    "            new_pos = self._move_agent(action)\n",
    "            if not self._is_valid(new_pos):\n",
    "                reward = -15  # Penalty for invalid move (out of grid)\n",
    "            elif not self._is_collision(new_pos):\n",
    "                self.agent_pos = new_pos\n",
    "            else:\n",
    "                reward = -20  # Collision penalty\n",
    "\n",
    "        # Pickup (4)\n",
    "        elif action == 4:\n",
    "            if self.agent_pos == self.package_pos and not self.has_package:\n",
    "                self.has_package = True\n",
    "                reward = 25\n",
    "            else:\n",
    "                reward = -5  # Penalty for invalid pickup\n",
    "        \n",
    "        # Dropoff (5)\n",
    "        elif action == 5:\n",
    "            if self.has_package:\n",
    "                self.package_pos = self.agent_pos.copy()  # Set new package position\n",
    "                self.has_package = False  # Drop the package\n",
    "                reward = -10  # Reward for a valid drop\n",
    "                \n",
    "                # If dropped at the fixed dropoff point, end episode\n",
    "                if self.agent_pos == self.dropoff_pos:\n",
    "                    self.dropped_off = True\n",
    "                    terminated = True\n",
    "                    reward = 100\n",
    "            else:\n",
    "                reward = -5  # Penalty for invalid dropoff\n",
    "\n",
    "        # Update cumulative reward\n",
    "        self.cumulative_reward += reward\n",
    "\n",
    "        # Capture next state\n",
    "        next_state = self._get_obs()\n",
    "        \n",
    "        # Render environment state\n",
    "        self.render()\n",
    "\n",
    "        return next_state, reward, terminated, False, {}\n",
    "\n",
    "    def _get_obs(self):\n",
    "        return (tuple(self.agent_pos), int(self.has_package))\n",
    "\n",
    "    def _move_agent(self, action):\n",
    "        if self.deterministic or random.random() < 0.9:\n",
    "            # 90% chance: execute the intended move\n",
    "            moves = {\n",
    "                0: [1, 0],  # Up\n",
    "                1: [-1, 0],   # Down\n",
    "                2: [0, -1],  # Left\n",
    "                3: [0, 1]    # Right\n",
    "            }\n",
    "            delta = moves[action]\n",
    "            new_pos = [\n",
    "                self.agent_pos[0] + delta[0],\n",
    "                self.agent_pos[1] + delta[1]\n",
    "            ]\n",
    "        else:\n",
    "            # 10% chance: stay in the current position\n",
    "            new_pos = self.agent_pos.copy()\n",
    "        \n",
    "        return new_pos\n",
    "\n",
    "    def _is_collision(self, pos):\n",
    "        return pos in self.obstacles\n",
    "    \n",
    "    def _is_valid(self, pos):\n",
    "        x, y = pos\n",
    "        return 0 <= x < 6 and 0 <= y < 6 and pos not in self.obstacles\n",
    "\n",
    "    def render(self):\n",
    "        fig, ax = plt.subplots()\n",
    "        ax.set_xlim(0, 6)\n",
    "        ax.set_ylim(0, 6)\n",
    "\n",
    "        # Draw grid\n",
    "        for x in range(7):\n",
    "            ax.axvline(x, color='k')\n",
    "        for y in range(7):\n",
    "            ax.axhline(y, color='k')\n",
    "\n",
    "        # Draw obstacles\n",
    "        for obs in self.obstacles:\n",
    "            ax.add_patch(Rectangle(\n",
    "                (obs[1], obs[0]), 1, 1, facecolor='black'\n",
    "            ))\n",
    "\n",
    "        # Draw package if not picked up\n",
    "        if self.package_pos and not self.has_package:\n",
    "            ax.add_patch(Rectangle((self.package_pos[1], self.package_pos[0]), 1, 1, facecolor='green'))\n",
    "        \n",
    "        # Draw dropoff point\n",
    "        ax.add_patch(Rectangle((self.dropoff_pos[1], self.dropoff_pos[0]), 1, 1, facecolor='yellow'))\n",
    "\n",
    "        # Draw agent\n",
    "        ax.add_patch(Rectangle(\n",
    "            (self.agent_pos[1], self.agent_pos[0]), 1, 1,\n",
    "            facecolor='blue' if self.has_package else 'red'\n",
    "        ))\n",
    "\n",
    "        plt.show()\n",
    "\n",
    "        # Adjusting the grid layout to match visualization\n",
    "        grid = [[\". \" for _ in range(6)] for _ in range(6)]\n",
    "        \n",
    "        # Place obstacles\n",
    "        for obs in self.obstacles:\n",
    "            grid[5 - obs[0]][obs[1]] = \"X \"  # Obstacle\n",
    "        \n",
    "        # Place package if not picked up\n",
    "        if self.package_pos and not self.has_package:\n",
    "            grid[5 - self.package_pos[0]][self.package_pos[1]] = \"P \"\n",
    "        \n",
    "        # Place dropoff point\n",
    "        grid[5 - self.dropoff_pos[0]][self.dropoff_pos[1]] = \"D \"\n",
    "        \n",
    "        # Place agent\n",
    "        if self.has_package:\n",
    "            grid[5 - self.agent_pos[0]][self.agent_pos[1]] = \"A*\"\n",
    "        else:\n",
    "            grid[5 - self.agent_pos[0]][self.agent_pos[1]] = \"A \"\n",
    "        \n",
    "        for row in grid:\n",
    "            print(\"\".join(row))\n",
    "        print(\"\\n\")"
   ]
  },
  {
   "cell_type": "code",
   "execution_count": 10,
   "metadata": {},
   "outputs": [],
   "source": [
    "# Simulation function\n",
    "def run_simulation(deterministic=True, num_steps=100):\n",
    "    env = WarehouseRobotEnv(deterministic=deterministic)\n",
    "    obs, _ = env.reset()\n",
    "    \n",
    "    print(\"Initial Grid:\")\n",
    "    env.render()\n",
    "    \n",
    "    for step in range(num_steps):\n",
    "        action = env.action_space.sample()  # Random action\n",
    "        obs, reward, done, _, _ = env.step(action)\n",
    "        action_map = {0: 'Up', 1: 'Down', 2: 'Left', 3: 'Right', 4: 'Pickup', 5: 'Dropoff'}\n",
    "        \n",
    "        print(f\"Step: {step + 1}\")\n",
    "        print(f\"Action: {action} ({action_map[action]})\")\n",
    "        print(f\"Reward: {reward}\")\n",
    "        print(f\"Cumulative Reward: {env.cumulative_reward}\")\n",
    "        print(f\"Agent Position: {obs[0]}\")\n",
    "        print(f\"Has Picked Up: {bool(obs[1])}\\n\")\n",
    "        \n",
    "        if done:\n",
    "            print(\"Episode finished!\")\n",
    "            break"
   ]
  },
  {
   "cell_type": "markdown",
   "metadata": {},
   "source": [
    "# DETERMINISTIC"
   ]
  },
  {
   "cell_type": "code",
   "execution_count": 11,
   "metadata": {},
   "outputs": [
    {
     "name": "stdout",
     "output_type": "stream",
     "text": [
      "Deterministic Simulation:\n",
      "Initial Grid:\n"
     ]
    },
    {
     "data": {
      "image/png": "[encoded data removed]",
      "text/plain": [
       "<Figure size 640x480 with 1 Axes>"
      ]
     },
     "metadata": {},
     "output_type": "display_data"
    },
    {
     "name": "stdout",
     "output_type": "stream",
     "text": [
      ". . . . . . \n",
      ". . . . . . \n",
      ". . . . . . \n",
      ". X . . . . \n",
      ". X X . . . \n",
      "A P . . D . \n",
      "\n",
      "\n"
     ]
    },
    {
     "data": {
      "image/png": "[encoded data removed]",
      "text/plain": [
       "<Figure size 640x480 with 1 Axes>"
      ]
     },
     "metadata": {},
     "output_type": "display_data"
    },
    {
     "name": "stdout",
     "output_type": "stream",
     "text": [
      ". . . . . . \n",
      ". . . . . . \n",
      ". . . . . . \n",
      ". X . . . . \n",
      "A X X . . . \n",
      ". P . . D . \n",
      "\n",
      "\n",
      "Step: 1\n",
      "Action: 0\n",
      "Reward: -1\n",
      "Agent Position: (1, 0)\n",
      "Has Picked Up: False\n",
      "\n"
     ]
    },
    {
     "data": {
      "image/png": "[encoded data removed]",
      "text/plain": [
       "<Figure size 640x480 with 1 Axes>"
      ]
     },
     "metadata": {},
     "output_type": "display_data"
    },
    {
     "name": "stdout",
     "output_type": "stream",
     "text": [
      ". . . . . . \n",
      ". . . . . . \n",
      ". . . . . . \n",
      ". X . . . . \n",
      "A X X . . . \n",
      ". P . . D . \n",
      "\n",
      "\n",
      "Step: 2\n",
      "Action: 5\n",
      "Reward: -10\n",
      "Agent Position: (1, 0)\n",
      "Has Picked Up: False\n",
      "\n"
     ]
    },
    {
     "data": {
      "image/png": "[encoded data removed]",
      "text/plain": [
       "<Figure size 640x480 with 1 Axes>"
      ]
     },
     "metadata": {},
     "output_type": "display_data"
    },
    {
     "name": "stdout",
     "output_type": "stream",
     "text": [
      ". . . . . . \n",
      ". . . . . . \n",
      ". . . . . . \n",
      ". X . . . . \n",
      "A X X . . . \n",
      ". P . . D . \n",
      "\n",
      "\n",
      "Step: 3\n",
      "Action: 3\n",
      "Reward: -15\n",
      "Agent Position: (1, 0)\n",
      "Has Picked Up: False\n",
      "\n"
     ]
    },
    {
     "data": {
      "image/png": "[encoded data removed]",
      "text/plain": [
       "<Figure size 640x480 with 1 Axes>"
      ]
     },
     "metadata": {},
     "output_type": "display_data"
    },
    {
     "name": "stdout",
     "output_type": "stream",
     "text": [
      ". . . . . . \n",
      ". . . . . . \n",
      ". . . . . . \n",
      ". X . . . . \n",
      "A X X . . . \n",
      ". P . . D . \n",
      "\n",
      "\n",
      "Step: 4\n",
      "Action: 4\n",
      "Reward: -10\n",
      "Agent Position: (1, 0)\n",
      "Has Picked Up: False\n",
      "\n"
     ]
    },
    {
     "data": {
      "image/png": "[encoded data removed]",
      "text/plain": [
       "<Figure size 640x480 with 1 Axes>"
      ]
     },
     "metadata": {},
     "output_type": "display_data"
    },
    {
     "name": "stdout",
     "output_type": "stream",
     "text": [
      ". . . . . . \n",
      ". . . . . . \n",
      ". . . . . . \n",
      ". X . . . . \n",
      "A X X . . . \n",
      ". P . . D . \n",
      "\n",
      "\n",
      "Step: 5\n",
      "Action: 4\n",
      "Reward: -10\n",
      "Agent Position: (1, 0)\n",
      "Has Picked Up: False\n",
      "\n"
     ]
    }
   ],
   "source": [
    "print(\"Deterministic Simulation:\")\n",
    "# Run a simulation\n",
    "run_simulation(deterministic=True, num_steps=5)\n",
    "\n"
   ]
  },
  {
   "cell_type": "markdown",
   "metadata": {},
   "source": [
    "# STOCHASTIC"
   ]
  },
  {
   "cell_type": "code",
   "execution_count": 12,
   "metadata": {},
   "outputs": [
    {
     "name": "stdout",
     "output_type": "stream",
     "text": [
      "\n",
      "Stochastic Simulation:\n",
      "Initial Grid:\n"
     ]
    },
    {
     "data": {
      "image/png": "[encoded data removed]",
      "text/plain": [
       "<Figure size 640x480 with 1 Axes>"
      ]
     },
     "metadata": {},
     "output_type": "display_data"
    },
    {
     "name": "stdout",
     "output_type": "stream",
     "text": [
      ". . . . . . \n",
      ". . . . . . \n",
      ". . . . . . \n",
      ". X . . . . \n",
      ". X X . . . \n",
      "A P . . D . \n",
      "\n",
      "\n"
     ]
    },
    {
     "data": {
      "image/png": "[encoded data removed]",
      "text/plain": [
       "<Figure size 640x480 with 1 Axes>"
      ]
     },
     "metadata": {},
     "output_type": "display_data"
    },
    {
     "name": "stdout",
     "output_type": "stream",
     "text": [
      ". . . . . . \n",
      ". . . . . . \n",
      ". . . . . . \n",
      ". X . . . . \n",
      ". X X . . . \n",
      "A P . . D . \n",
      "\n",
      "\n",
      "Step: 1\n",
      "Action: 1\n",
      "Reward: -15\n",
      "Agent Position: (0, 0)\n",
      "Has Picked Up: False\n",
      "\n"
     ]
    },
    {
     "data": {
      "image/png": "[encoded data removed]",
      "text/plain": [
       "<Figure size 640x480 with 1 Axes>"
      ]
     },
     "metadata": {},
     "output_type": "display_data"
    },
    {
     "name": "stdout",
     "output_type": "stream",
     "text": [
      ". . . . . . \n",
      ". . . . . . \n",
      ". . . . . . \n",
      ". X . . . . \n",
      ". X X . . . \n",
      "A P . . D . \n",
      "\n",
      "\n",
      "Step: 2\n",
      "Action: 2\n",
      "Reward: -15\n",
      "Agent Position: (0, 0)\n",
      "Has Picked Up: False\n",
      "\n"
     ]
    },
    {
     "data": {
      "image/png": "[encoded data removed]",
      "text/plain": [
       "<Figure size 640x480 with 1 Axes>"
      ]
     },
     "metadata": {},
     "output_type": "display_data"
    },
    {
     "name": "stdout",
     "output_type": "stream",
     "text": [
      ". . . . . . \n",
      ". . . . . . \n",
      ". . . . . . \n",
      ". X . . . . \n",
      ". X X . . . \n",
      ". A . . D . \n",
      "\n",
      "\n",
      "Step: 3\n",
      "Action: 3\n",
      "Reward: -1\n",
      "Agent Position: (0, 1)\n",
      "Has Picked Up: False\n",
      "\n"
     ]
    },
    {
     "data": {
      "image/png": "[encoded data removed]",
      "text/plain": [
       "<Figure size 640x480 with 1 Axes>"
      ]
     },
     "metadata": {},
     "output_type": "display_data"
    },
    {
     "name": "stdout",
     "output_type": "stream",
     "text": [
      ". . . . . . \n",
      ". . . . . . \n",
      ". . . . . . \n",
      ". X . . . . \n",
      ". X X . . . \n",
      ". A . . D . \n",
      "\n",
      "\n",
      "Step: 4\n",
      "Action: 1\n",
      "Reward: -15\n",
      "Agent Position: (0, 1)\n",
      "Has Picked Up: False\n",
      "\n"
     ]
    },
    {
     "data": {
      "image/png": "[encoded data removed]",
      "text/plain": [
       "<Figure size 640x480 with 1 Axes>"
      ]
     },
     "metadata": {},
     "output_type": "display_data"
    },
    {
     "name": "stdout",
     "output_type": "stream",
     "text": [
      ". . . . . . \n",
      ". . . . . . \n",
      ". . . . . . \n",
      ". X . . . . \n",
      ". X X . . . \n",
      ". A . . D . \n",
      "\n",
      "\n",
      "Step: 5\n",
      "Action: 5\n",
      "Reward: -10\n",
      "Agent Position: (0, 1)\n",
      "Has Picked Up: False\n",
      "\n"
     ]
    }
   ],
   "source": [
    "# Run stochastic simulation\n",
    "print(\"\\nStochastic Simulation:\")\n",
    "run_simulation(deterministic=False, num_steps=5)"
   ]
  },
  {
   "cell_type": "code",
   "execution_count": null,
   "metadata": {},
   "outputs": [],
   "source": []
  }
 ],
 "metadata": {
  "kernelspec": {
   "display_name": "rl_env",
   "language": "python",
   "name": "python3"
  },
  "language_info": {
   "codemirror_mode": {
    "name": "ipython",
    "version": 3
   },
   "file_extension": ".py",
   "mimetype": "text/x-python",
   "name": "python",
   "nbconvert_exporter": "python",
   "pygments_lexer": "ipython3",
   "version": "3.12.4"
  }
 },
 "nbformat": 4,
 "nbformat_minor": 2
}
